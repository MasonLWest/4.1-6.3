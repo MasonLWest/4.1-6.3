{
 "cells": [
  {
   "attachments": {},
   "cell_type": "markdown",
   "metadata": {},
   "source": [
    "6.1"
   ]
  },
  {
   "cell_type": "code",
   "execution_count": null,
   "metadata": {},
   "outputs": [],
   "source": [
    "import math\n",
    "\n",
    "def newton(x):\n",
    "    \"\"\"\n",
    "    Computes the square root of a number x using Newton's method.\n",
    "    \"\"\"\n",
    "    tolerance = 0.000001\n",
    "    estimate = 1.0\n",
    "    while True:\n",
    "        estimate = (estimate + x / estimate) / 2\n",
    "        difference = abs(x - estimate ** 2)\n",
    "        if difference <= tolerance:\n",
    "            break\n",
    "    return estimate\n",
    "\n",
    "def main():\n",
    "    \"\"\"\n",
    "    Computes the square root of user input using both the newton function and\n",
    "    Python's math.sqrt function until the user enters an empty input.\n",
    "    \"\"\"\n",
    "    while True:\n",
    "        num_input = input(\"Enter a positive number or enter/return to quit: \")\n",
    "        if num_input == \"\":\n",
    "            break\n",
    "        else:\n",
    "            try:\n",
    "                num = float(num_input)\n",
    "                print(\"The program's estimate is\", newton(num))\n",
    "                print(\"Python's estimate is\", math.sqrt(num))\n",
    "            except ValueError:\n",
    "                print(\"Invalid input, please enter a valid number.\")\n",
    "\n",
    "if __name__ == \"__main__\":\n",
    "    main()\n"
   ]
  }
 ],
 "metadata": {
  "language_info": {
   "name": "python"
  },
  "orig_nbformat": 4
 },
 "nbformat": 4,
 "nbformat_minor": 2
}
