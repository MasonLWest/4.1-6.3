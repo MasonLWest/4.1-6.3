{
 "cells": [
  {
   "attachments": {},
   "cell_type": "markdown",
   "metadata": {},
   "source": [
    "6.2"
   ]
  },
  {
   "cell_type": "code",
   "execution_count": null,
   "metadata": {},
   "outputs": [],
   "source": [
    "import math\n",
    "\n",
    "\n",
    "# Initialize the tolerance\n",
    "TOLERANCE = 0.001\n",
    "\n",
    "def newton(x, estimate):\n",
    "    \"\"\"Returns the square root of x.\"\"\"\n",
    "    # Perform the successive approximations\n",
    "    new_estimate = (estimate + x / estimate) / 2\n",
    "    if abs(new_estimate - estimate) <= TOLERANCE:\n",
    "        return new_estimate\n",
    "    else:\n",
    "        return newton(x, new_estimate)\n",
    "\n",
    "def main():\n",
    "    \"\"\"Allows the user to obtain square roots.\"\"\"\n",
    "    while True:\n",
    "        # Receive the input number from the user\n",
    "        x = input(\"Enter a positive number or enter/return to quit: \")\n",
    "        if x == \"\":\n",
    "             break\n",
    "        x = float(x)\n",
    "        # Output the result\n",
    "        print(\"The program's estimate is\", newton(x, 1.0))\n",
    "        print(\"Python's estimate is     \", math.sqrt(x))\n",
    "\n",
    "if __name__ == \"__main__\":\n",
    "    main()\n",
    "\n"
   ]
  }
 ],
 "metadata": {
  "language_info": {
   "name": "python"
  },
  "orig_nbformat": 4
 },
 "nbformat": 4,
 "nbformat_minor": 2
}
