{
 "cells": [
  {
   "attachments": {},
   "cell_type": "markdown",
   "metadata": {},
   "source": [
    "6.3"
   ]
  },
  {
   "cell_type": "code",
   "execution_count": null,
   "metadata": {},
   "outputs": [],
   "source": [
    "import math\n",
    "\n",
    "# Initialize the tolerance\n",
    "TOLERANCE = 0.000001\n",
    "\n",
    "def newton(x, estimate=1.0):\n",
    "    \"\"\"Returns the square root of x.\"\"\"\n",
    "    # Compute the difference and test for the base case\n",
    "    difference = abs(x - estimate ** 2)\n",
    "    if difference <= TOLERANCE:\n",
    "        return estimate\n",
    "    else:\n",
    "        # Recurse after improving the estimate\n",
    "        return newton(x, (estimate + x / estimate) / 2)\n",
    "\n",
    "def main():\n",
    "    \"\"\"Allows the user to obtain square roots.\"\"\"\n",
    "    while True:\n",
    "        # Receive the input number from the user\n",
    "        x = input(\"Enter a positive number or enter/return to quit: \")\n",
    "        if x == \"\":\n",
    "             break\n",
    "        x = float(x)\n",
    "        # Output the result\n",
    "        print(\"The program's estimate is\", newton(x))\n",
    "        print(\"Python's estimate is     \", math.sqrt(x))\n",
    "\n",
    "if __name__ == \"__main__\":\n",
    "    main()\n",
    "\n"
   ]
  }
 ],
 "metadata": {
  "language_info": {
   "name": "python"
  },
  "orig_nbformat": 4
 },
 "nbformat": 4,
 "nbformat_minor": 2
}
