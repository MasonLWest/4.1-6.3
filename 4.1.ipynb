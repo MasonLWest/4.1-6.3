{
 "cells": [
  {
   "attachments": {},
   "cell_type": "markdown",
   "metadata": {},
   "source": [
    "4.1"
   ]
  },
  {
   "cell_type": "code",
   "execution_count": null,
   "metadata": {},
   "outputs": [],
   "source": [
    "plaintext = input(\"Enter a message: \")\n",
    "distance = int(input(\"Enter the distance value: \"))\n",
    "\n",
    "encrypted_text = \"\"\n",
    "\n",
    "for char in plaintext:\n",
    "    if char.isprintable():  # only encrypt printable characters\n",
    "        new_char_code = ord(char) + distance  # shift the character code by the distance value\n",
    "        if new_char_code > 126:  # handle wrapping around beyond the printable ASCII range\n",
    "            new_char_code -= 94\n",
    "        encrypted_text += chr(new_char_code)  # append the encrypted character to the result\n",
    "    else:\n",
    "        encrypted_text += char  # leave non-printable characters unchanged\n",
    "\n",
    "print(\"Encrypted text:\", encrypted_text)\n"
   ]
  }
 ],
 "metadata": {
  "language_info": {
   "name": "python"
  },
  "orig_nbformat": 4
 },
 "nbformat": 4,
 "nbformat_minor": 2
}
