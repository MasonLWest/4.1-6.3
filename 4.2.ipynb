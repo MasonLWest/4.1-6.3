{
 "cells": [
  {
   "attachments": {},
   "cell_type": "markdown",
   "metadata": {},
   "source": [
    "4.2"
   ]
  },
  {
   "cell_type": "code",
   "execution_count": null,
   "metadata": {},
   "outputs": [],
   "source": [
    "def decrypt_caesar_cipher(coded_text, distance):\n",
    "    \"\"\"\n",
    "    Decrypts a line of encrypted text using a Caesar cipher with the given distance value.\n",
    "    \"\"\"\n",
    "    plaintext = \"\"\n",
    "    for char in coded_text:\n",
    "        if char.isprintable():\n",
    "            # Determine the new ASCII code for the character after shifting by the distance value\n",
    "            new_code = ord(char) - distance\n",
    "            # Handle wrap-around for ASCII codes outside the printable range (32-126)\n",
    "            if new_code < 32:\n",
    "                new_code += 95\n",
    "            plaintext += chr(new_code)\n",
    "        else:\n",
    "            plaintext += char\n",
    "    return plaintext\n",
    "\n",
    "# Prompt the user for input and call the decryption function\n",
    "coded_text = input(\"Enter the coded text: \")\n",
    "distance = int(input(\"Enter the distance value: \"))\n",
    "plaintext = decrypt_caesar_cipher(coded_text, distance)\n",
    "print(plaintext)\n"
   ]
  }
 ],
 "metadata": {
  "language_info": {
   "name": "python"
  },
  "orig_nbformat": 4
 },
 "nbformat": 4,
 "nbformat_minor": 2
}
